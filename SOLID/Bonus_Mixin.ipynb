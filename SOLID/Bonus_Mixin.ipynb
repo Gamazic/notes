{
 "cells": [
  {
   "cell_type": "markdown",
   "id": "5794c958",
   "metadata": {},
   "source": [
    "# Дополнительно про `Mixin`\n",
    "Принципы `SOLID` и `Mixin` хорошо дружат."
   ]
  },
  {
   "cell_type": "markdown",
   "id": "77a3f914",
   "metadata": {},
   "source": [
    "Следующий пример довольно абстракный и глуповатый, но хорошо демонстирует мощность этих двух принципов.\n",
    "\n",
    "Допустим нам нужны такие сущности как рука и нога, которые умеют что то делать."
   ]
  },
  {
   "cell_type": "code",
   "execution_count": 13,
   "id": "f688b829",
   "metadata": {},
   "outputs": [],
   "source": [
    "class ArmMixin:\n",
    "    def take(self, item):\n",
    "        print(f'Взял {item}')\n",
    "        \n",
    "class LegMixin:\n",
    "    def move(self, rotation, speed):\n",
    "        print(f'Пошел в{rotation}, со скоростью {speed}')"
   ]
  },
  {
   "cell_type": "markdown",
   "id": "bf98a9aa",
   "metadata": {},
   "source": [
    "Функции, работающие с миксинами, которые мы протестировали и вообще все хорошо:"
   ]
  },
  {
   "cell_type": "code",
   "execution_count": 14,
   "id": "aa138d6b",
   "metadata": {},
   "outputs": [
    {
     "name": "stdout",
     "output_type": "stream",
     "text": [
      "Пошел вперед, со скоростью бегуна\n"
     ]
    }
   ],
   "source": [
    "def run_forward(leg: LegMixin):\n",
    "    leg.move('перед', 'бегуна')\n",
    "\n",
    "single_leg = LegMixin()\n",
    "run_forward(single_leg)"
   ]
  },
  {
   "cell_type": "code",
   "execution_count": 15,
   "id": "1191b441",
   "metadata": {},
   "outputs": [
    {
     "name": "stdout",
     "output_type": "stream",
     "text": [
      "Взял кола\n"
     ]
    }
   ],
   "source": [
    "def take_cola(arm: ArmMixin):\n",
    "    arm.take('кола')\n",
    "\n",
    "single_arm = ArmMixin()\n",
    "take_cola(single_arm)"
   ]
  },
  {
   "cell_type": "markdown",
   "id": "d406e478",
   "metadata": {},
   "source": [
    "Также для того чтобы выступать по радио, мы сделали человека без рук и ног, который умеет только говорить."
   ]
  },
  {
   "cell_type": "code",
   "execution_count": 16,
   "id": "e5bac9f0",
   "metadata": {},
   "outputs": [],
   "source": [
    "class PersonWithoutLegAndArm:\n",
    "    def speek(self, phrase: str):\n",
    "        print(f'Человек говорить: {phrase}')\n",
    "\n",
    "def speek_hello(person: PersonWithoutLegAndArm):\n",
    "    person.speek('Привет!')"
   ]
  },
  {
   "cell_type": "code",
   "execution_count": 17,
   "id": "a5851126",
   "metadata": {},
   "outputs": [
    {
     "name": "stdout",
     "output_type": "stream",
     "text": [
      "Человек говорить: Привет!\n"
     ]
    }
   ],
   "source": [
    "radio_person = PersonWithoutLegAndArm()\n",
    "speek_hello(radio_person)"
   ]
  },
  {
   "cell_type": "markdown",
   "id": "5323547f",
   "metadata": {},
   "source": [
    "А теперь мы решили сделать человека с руками и ногами из человека, который умеет только говорит (дичь, конечно). И наследуясь от человека без рук и ног мы дополнительно наследуемся от миксинов рук и ног. Как бы расширяя функционал человека без рук и ног."
   ]
  },
  {
   "cell_type": "code",
   "execution_count": 18,
   "id": "1362b3bd",
   "metadata": {},
   "outputs": [],
   "source": [
    "class Person(PersonWithoutLegAndArm, LegMixin, ArmMixin):\n",
    "    pass"
   ]
  },
  {
   "cell_type": "code",
   "execution_count": 19,
   "id": "1746099b",
   "metadata": {},
   "outputs": [
    {
     "name": "stdout",
     "output_type": "stream",
     "text": [
      "Пошел вперед, со скоростью бегуна\n",
      "Взял кола\n",
      "Человек говорить: Привет!\n"
     ]
    }
   ],
   "source": [
    "person = Person()\n",
    "\n",
    "run_forward(person)\n",
    "take_cola(person)\n",
    "speek_hello(person)"
   ]
  },
  {
   "cell_type": "markdown",
   "id": "63a0cbea",
   "metadata": {},
   "source": [
    "Таким образом, мы ничего не сломали и все прежние функции могут смело работать с наследниками без дополнительных приседаний."
   ]
  }
 ],
 "metadata": {
  "kernelspec": {
   "display_name": "Python 3 (ipykernel)",
   "language": "python",
   "name": "python3"
  },
  "language_info": {
   "codemirror_mode": {
    "name": "ipython",
    "version": 3
   },
   "file_extension": ".py",
   "mimetype": "text/x-python",
   "name": "python",
   "nbconvert_exporter": "python",
   "pygments_lexer": "ipython3",
   "version": "3.7.10"
  }
 },
 "nbformat": 4,
 "nbformat_minor": 5
}
