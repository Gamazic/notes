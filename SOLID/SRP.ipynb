{
 "cells": [
  {
   "cell_type": "markdown",
   "id": "883d61cf",
   "metadata": {},
   "source": [
    "# SRP\n",
    "## single-responsibility principle\n",
    "\n",
    "Каждый объект должен иметь одну ответственность и эта ответственность должна быть полностью инкапсулирована в класс. Все его поведения должны быть направлены исключительно на обеспечение этой ответственности."
   ]
  },
  {
   "cell_type": "markdown",
   "id": "47fee114",
   "metadata": {},
   "source": [
    "## Пример\n",
    "\n",
    "Мы пишем программу для аналитики данных.\n",
    "\n",
    "В первой итерации, разработчики реализовали подключение к базе данных:"
   ]
  },
  {
   "cell_type": "code",
   "execution_count": 1,
   "id": "c6659da9",
   "metadata": {},
   "outputs": [],
   "source": [
    "class DB:\n",
    "    def __init__(self, connection_string, data):\n",
    "        self.__connect = self.__connect_to_db(connection_string)\n",
    "        self.__data = data\n",
    "        \n",
    "    def __connect_to_db(self, connection_string):\n",
    "        if len(connection_string.split('.')) == 4:\n",
    "            return connection_string\n",
    "        else:\n",
    "            raise ValueError\n",
    "        \n",
    "    def select_column(self, name):\n",
    "        column = self.__data[name]\n",
    "        return column"
   ]
  },
  {
   "cell_type": "code",
   "execution_count": 2,
   "id": "2c09e593",
   "metadata": {},
   "outputs": [],
   "source": [
    "# Упрощенная база данных\n",
    "DATA = {\n",
    "    'price': [100, 200, 300],\n",
    "    'item': ['пиво', 'рыба', 'раки']\n",
    "}"
   ]
  },
  {
   "cell_type": "code",
   "execution_count": 3,
   "id": "322a5835",
   "metadata": {},
   "outputs": [
    {
     "name": "stdout",
     "output_type": "stream",
     "text": [
      "[100, 200, 300]\n"
     ]
    }
   ],
   "source": [
    "db = DB('0.0.0.0', DATA)\n",
    "price = db.select_column('price')\n",
    "print(price)"
   ]
  },
  {
   "cell_type": "markdown",
   "id": "fadd6090",
   "metadata": {},
   "source": [
    "На второй итерации начали реализовывать аналитику.\n",
    "\n",
    "Для начала я продемонстрирую плохой пример реализации, который не будет подчиняться `SRP`.\n",
    "\n",
    "Программист решил реализовать аналитику прямо внутри класса с базой данных."
   ]
  },
  {
   "cell_type": "code",
   "execution_count": 4,
   "id": "aececfd2",
   "metadata": {},
   "outputs": [],
   "source": [
    "class DB:\n",
    "    def __init__(self, connection_string, data):\n",
    "        self.__connect = self.__connect_to_db(connection_string)\n",
    "        self.__data = data\n",
    "        \n",
    "    def __connect_to_db(self, connection_string):\n",
    "        if len(connection_string.split('.')) == 4:\n",
    "            return connection_string\n",
    "        else:\n",
    "            raise ValueError\n",
    "        \n",
    "    def select_column(self, name):\n",
    "        column = self.__data[name]\n",
    "        return column\n",
    "    \n",
    "    def mean_in_column(self, column_name):\n",
    "        column = self.select_column(column_name)\n",
    "        # Обратите внимание, я считаю среднее\n",
    "        # таким образом не просто так.\n",
    "        # Это нарочный баг.\n",
    "        # Баги встречаются везде и это нормально.\n",
    "        # Хоть здесь он и совсем глупый.\n",
    "        return sum(column) / 3\n",
    "    \n",
    "    def max_in_column(self, column_name):\n",
    "        column = self.select_column(column_name)\n",
    "        return max(column)"
   ]
  },
  {
   "cell_type": "code",
   "execution_count": 5,
   "id": "456fd036",
   "metadata": {},
   "outputs": [
    {
     "name": "stdout",
     "output_type": "stream",
     "text": [
      "200.0\n",
      "300\n"
     ]
    }
   ],
   "source": [
    "db = DB('0.0.0.0', DATA)\n",
    "\n",
    "print(db.mean_in_column('price'))\n",
    "print(db.max_in_column('price'))"
   ]
  },
  {
   "cell_type": "markdown",
   "id": "a19510e0",
   "metadata": {},
   "source": [
    "Но что же не так с этим классом?\n",
    "\n",
    "То, что он содержит разную \"бизнес\" логику:\n",
    "* коннекст к БД\n",
    "* Аналитику\n",
    "\n",
    "Прошло время. Кому то понадобилось считать аналитику не из базы данных, а напрямую из списка:"
   ]
  },
  {
   "cell_type": "code",
   "execution_count": 6,
   "id": "a008e084",
   "metadata": {},
   "outputs": [],
   "source": [
    "ANOTHER_PRICES = [101, 404, 228]"
   ]
  },
  {
   "cell_type": "markdown",
   "id": "f032e9eb",
   "metadata": {},
   "source": [
    "Программист видит код аналитики в `DB`, но он реализован так, что сложно или невозможно переиспользовать его на списке `ANOTHER_PRICES`.\n",
    "\n",
    "Проще всего взять и втупую сделать копипасту:"
   ]
  },
  {
   "cell_type": "code",
   "execution_count": 7,
   "id": "e10a3574",
   "metadata": {},
   "outputs": [],
   "source": [
    "class Analytics:\n",
    "    def mean(self, distribution):\n",
    "        return sum(distribution) / 3\n",
    "    \n",
    "    def max(self, distribution):\n",
    "        return max(distribution)"
   ]
  },
  {
   "cell_type": "code",
   "execution_count": 8,
   "id": "26629493",
   "metadata": {},
   "outputs": [
    {
     "name": "stdout",
     "output_type": "stream",
     "text": [
      "244.33333333333334\n",
      "404\n"
     ]
    }
   ],
   "source": [
    "analytics = Analytics()\n",
    "\n",
    "print(analytics.mean(ANOTHER_PRICES))\n",
    "print(analytics.max(ANOTHER_PRICES))"
   ]
  },
  {
   "cell_type": "markdown",
   "id": "ee822785",
   "metadata": {},
   "source": [
    "Вдруг! Тестировщик нашел баг (или не тестировщик, а клиент нашей программы). Оказывается мы считаем неправильно среднее:"
   ]
  },
  {
   "cell_type": "code",
   "execution_count": 9,
   "id": "e8f39262",
   "metadata": {},
   "outputs": [],
   "source": [
    "ANOTHER_DATA = {\n",
    "    'price': [1,1,1,1],\n",
    "    'item': ['пиво', 'рыба', 'раки', 'кальмар']\n",
    "}"
   ]
  },
  {
   "cell_type": "code",
   "execution_count": 10,
   "id": "12f02ffd",
   "metadata": {},
   "outputs": [
    {
     "ename": "AssertionError",
     "evalue": "",
     "output_type": "error",
     "traceback": [
      "\u001b[0;31m---------------------------------------------------------------------------\u001b[0m",
      "\u001b[0;31mAssertionError\u001b[0m                            Traceback (most recent call last)",
      "\u001b[0;32m/tmp/ipykernel_14992/1793267453.py\u001b[0m in \u001b[0;36m<module>\u001b[0;34m\u001b[0m\n\u001b[1;32m      1\u001b[0m \u001b[0mdb\u001b[0m \u001b[0;34m=\u001b[0m \u001b[0mDB\u001b[0m\u001b[0;34m(\u001b[0m\u001b[0;34m'0.0.0.0'\u001b[0m\u001b[0;34m,\u001b[0m \u001b[0mANOTHER_DATA\u001b[0m\u001b[0;34m)\u001b[0m\u001b[0;34m\u001b[0m\u001b[0;34m\u001b[0m\u001b[0m\n\u001b[1;32m      2\u001b[0m \u001b[0;34m\u001b[0m\u001b[0m\n\u001b[0;32m----> 3\u001b[0;31m \u001b[0;32massert\u001b[0m \u001b[0mdb\u001b[0m\u001b[0;34m.\u001b[0m\u001b[0mmean_in_column\u001b[0m\u001b[0;34m(\u001b[0m\u001b[0;34m'price'\u001b[0m\u001b[0;34m)\u001b[0m \u001b[0;34m==\u001b[0m \u001b[0;36m1\u001b[0m\u001b[0;34m\u001b[0m\u001b[0;34m\u001b[0m\u001b[0m\n\u001b[0m",
      "\u001b[0;31mAssertionError\u001b[0m: "
     ]
    }
   ],
   "source": [
    "db = DB('0.0.0.0', ANOTHER_DATA)\n",
    "\n",
    "assert db.mean_in_column('price') == 1"
   ]
  },
  {
   "cell_type": "markdown",
   "id": "f073dc99",
   "metadata": {},
   "source": [
    "Мы пойдем исправлять `DB`.\n",
    "\n",
    "Затем, увидим, что в `Analytics` тоже есть баг.\n",
    "\n",
    "Пойдем исправлять `Analytics`.\n",
    "\n",
    "...\n",
    "\n",
    "Все это стоит ресурсов и можно было этого избежать.\n",
    "\n",
    "Вместо расширения функционала изначальной базы данных, стоило создать два отдельных класса с единственной ответственностью, т.е. руководствоваться `SRP`:"
   ]
  },
  {
   "cell_type": "code",
   "execution_count": 11,
   "id": "665c8d8c",
   "metadata": {},
   "outputs": [],
   "source": [
    "class DB:\n",
    "    def __init__(self, connection_string, data):\n",
    "        self.__connect = self.__connect_to_db(connection_string)\n",
    "        self.__data = data\n",
    "        \n",
    "    def __connect_to_db(self, connection_string):\n",
    "        if len(connection_string.split('.')) == 4:\n",
    "            return connection_string\n",
    "        else:\n",
    "            raise ValueError\n",
    "        \n",
    "    def select_column(self, name):\n",
    "        column = self.__data[name]\n",
    "        return column\n",
    "\n",
    "\n",
    "class Analytics:\n",
    "    def mean(self, distribution):\n",
    "        # Обратите внимание, я считаю среднее\n",
    "        # таким образом не просто так.\n",
    "        # Это нарочный баг.\n",
    "        # Баги встречаются везде и это нормально.\n",
    "        # Хоть здесь он и совсем глупый.\n",
    "        return sum(distribution) / 3\n",
    "    \n",
    "    def max(self, distribution):\n",
    "        return max(distribution)\n",
    "\n",
    "\n",
    "class AnalyticsOnDB:\n",
    "    def __init__(self, db, analytics):\n",
    "        self.__db = db\n",
    "        self.__analytics = analytics\n",
    "        \n",
    "    def mean_in_column(self, column_name):\n",
    "        column = self.__db.select_column(column_name)\n",
    "        return self.__analytics.mean(column)\n",
    "    \n",
    "    def max_in_column(self, column_name):\n",
    "        column = self.__db.select_column(column_name)\n",
    "        return self.__analytics.mean(column)"
   ]
  },
  {
   "cell_type": "markdown",
   "id": "b90d1fe4",
   "metadata": {},
   "source": [
    "И теперь у нас есть возможность использовать отдельно каждый класс."
   ]
  },
  {
   "cell_type": "code",
   "execution_count": 12,
   "id": "d4afdb52",
   "metadata": {},
   "outputs": [
    {
     "name": "stdout",
     "output_type": "stream",
     "text": [
      "[100, 200, 300]\n",
      "244.33333333333334\n",
      "404\n"
     ]
    }
   ],
   "source": [
    "db = DB('0.0.0.0', DATA)\n",
    "print(db.select_column('price'))\n",
    "\n",
    "analytics = Analytics()\n",
    "\n",
    "print(analytics.mean(ANOTHER_PRICES))\n",
    "print(analytics.max(ANOTHER_PRICES))"
   ]
  },
  {
   "cell_type": "markdown",
   "id": "b6e3e63d",
   "metadata": {},
   "source": [
    "При этом, в той же ситуации с обнаруженным багом:"
   ]
  },
  {
   "cell_type": "code",
   "execution_count": 13,
   "id": "8f8b8f15",
   "metadata": {},
   "outputs": [
    {
     "ename": "AssertionError",
     "evalue": "",
     "output_type": "error",
     "traceback": [
      "\u001b[0;31m---------------------------------------------------------------------------\u001b[0m",
      "\u001b[0;31mAssertionError\u001b[0m                            Traceback (most recent call last)",
      "\u001b[0;32m/tmp/ipykernel_14992/3498565431.py\u001b[0m in \u001b[0;36m<module>\u001b[0;34m\u001b[0m\n\u001b[1;32m      3\u001b[0m \u001b[0;34m\u001b[0m\u001b[0m\n\u001b[1;32m      4\u001b[0m \u001b[0mdb_analytics\u001b[0m \u001b[0;34m=\u001b[0m \u001b[0mAnalyticsOnDB\u001b[0m\u001b[0;34m(\u001b[0m\u001b[0mdb\u001b[0m\u001b[0;34m,\u001b[0m \u001b[0manalytics\u001b[0m\u001b[0;34m)\u001b[0m\u001b[0;34m\u001b[0m\u001b[0;34m\u001b[0m\u001b[0m\n\u001b[0;32m----> 5\u001b[0;31m \u001b[0;32massert\u001b[0m \u001b[0mdb_analytics\u001b[0m\u001b[0;34m.\u001b[0m\u001b[0mmean_in_column\u001b[0m\u001b[0;34m(\u001b[0m\u001b[0;34m'price'\u001b[0m\u001b[0;34m)\u001b[0m \u001b[0;34m==\u001b[0m \u001b[0;36m1\u001b[0m\u001b[0;34m\u001b[0m\u001b[0;34m\u001b[0m\u001b[0m\n\u001b[0m",
      "\u001b[0;31mAssertionError\u001b[0m: "
     ]
    }
   ],
   "source": [
    "db = DB('0.0.0.0', ANOTHER_DATA)\n",
    "analytics = Analytics()\n",
    "\n",
    "db_analytics = AnalyticsOnDB(db, analytics)\n",
    "assert db_analytics.mean_in_column('price') == 1"
   ]
  },
  {
   "cell_type": "markdown",
   "id": "1e2509f1",
   "metadata": {},
   "source": [
    "Мы исправим ошибку в `Analytics.mean` и все зависимые классы будут прекрасно работать:"
   ]
  },
  {
   "cell_type": "code",
   "execution_count": 14,
   "id": "9edd95f1",
   "metadata": {},
   "outputs": [],
   "source": [
    "class Analytics:\n",
    "    def mean(self, distribution):\n",
    "        return sum(distribution) / len(distribution)\n",
    "    \n",
    "    def max(self, distribution):\n",
    "        return max(distribution)"
   ]
  },
  {
   "cell_type": "code",
   "execution_count": 15,
   "id": "a3662512",
   "metadata": {},
   "outputs": [],
   "source": [
    "db = DB('0.0.0.0', ANOTHER_DATA)\n",
    "analytics = Analytics()\n",
    "\n",
    "db_analytics = AnalyticsOnDB(db, analytics)\n",
    "assert db_analytics.mean_in_column('price') == 1"
   ]
  },
  {
   "cell_type": "markdown",
   "id": "0650e64a",
   "metadata": {},
   "source": [
    "_____\n",
    "Тем не менее, всегда стоит помнить, что `ООП` и `SOLID` не всегда необходимы. Иногда это приводит к сильному оверинженерингу. В частности, через чур руководствуясь этим принципом можно наплодить очень много сущностей, с которыми будет тяжело работать, поддерживать и вообще ориентироваться в проекте."
   ]
  }
 ],
 "metadata": {
  "kernelspec": {
   "display_name": "Python 3 (ipykernel)",
   "language": "python",
   "name": "python3"
  },
  "language_info": {
   "codemirror_mode": {
    "name": "ipython",
    "version": 3
   },
   "file_extension": ".py",
   "mimetype": "text/x-python",
   "name": "python",
   "nbconvert_exporter": "python",
   "pygments_lexer": "ipython3",
   "version": "3.7.10"
  }
 },
 "nbformat": 4,
 "nbformat_minor": 5
}
