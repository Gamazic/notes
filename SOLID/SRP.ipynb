{
 "cells": [
  {
   "cell_type": "markdown",
   "id": "883d61cf",
   "metadata": {},
   "source": [
    "# SRP\n",
    "## single-responsibility principle\n",
    "\n",
    "Каждый объект должен иметь одну ответственность и эта ответственность должна быть полностью инкапсулирована в класс. Все его поведения должны быть направлены исключительно на обеспечение этой ответственности."
   ]
  },
  {
   "cell_type": "markdown",
   "id": "47fee114",
   "metadata": {},
   "source": [
    "## Пример\n",
    "\n",
    "Предположим, что мы пишем программу для аналитики данных.\n",
    "\n",
    "На первых этапах разработчики решили реализовать подключение к базе данных.\n",
    "\n",
    "В качестве базы данных, упрощенно будем использовать словарь:"
   ]
  },
  {
   "cell_type": "code",
   "execution_count": null,
   "id": "b8c44c1a",
   "metadata": {},
   "outputs": [],
   "source": [
    "DATA = {\n",
    "    'price': [100, 200, 300],\n",
    "    'item': ['пиво', 'рыба', 'раки']\n",
    "}"
   ]
  },
  {
   "cell_type": "markdown",
   "id": "de7f3b9c",
   "metadata": {},
   "source": [
    "Реализованное подключение к базе данных:"
   ]
  },
  {
   "cell_type": "code",
   "execution_count": null,
   "id": "c6659da9",
   "metadata": {},
   "outputs": [],
   "source": [
    "class DB:\n",
    "    def __init__(self, connection_string, data):\n",
    "        self.__connect = self.__connect_to_db(connection_string)\n",
    "        self.__data = data\n",
    "        \n",
    "    def __connect_to_db(self, connection_string):\n",
    "        if len(connection_string.split('.')) == 4:\n",
    "            return connection_string\n",
    "        else:\n",
    "            raise ValueError\n",
    "        \n",
    "    def select_column(self, name):\n",
    "        column = self.__data[name]\n",
    "        return column"
   ]
  },
  {
   "cell_type": "code",
   "execution_count": 5,
   "id": "322a5835",
   "metadata": {},
   "outputs": [
    {
     "name": "stdout",
     "output_type": "stream",
     "text": [
      "[100, 200, 300]\n"
     ]
    }
   ],
   "source": [
    "db = DB('0.0.0.0')\n",
    "price = db.select_column('price')\n",
    "print(price)"
   ]
  },
  {
   "cell_type": "markdown",
   "id": "fadd6090",
   "metadata": {},
   "source": [
    "Далее нам нужно реализовать аналитику данных.\n",
    "\n",
    "Как же это стоит сделать? Начну сначала с плохого примера, который не будет подчиняться `SRP`. Делаю это нарочно, чтобы сразу продемонстрировать от каких проблем может спасти `SRP`. Далее, будет исправленный пример, который подчиняется `SRP`.\n",
    "\n",
    "В следующем примере программист решил реализовать аналитику прямо внутри класса с базой данных. А почему нет? Это удобно, не нужно заводить дополнительных сущностей, все сразу работает."
   ]
  },
  {
   "cell_type": "code",
   "execution_count": 21,
   "id": "aececfd2",
   "metadata": {},
   "outputs": [],
   "source": [
    "class DB:\n",
    "    def __init__(self, connection_string, data):\n",
    "        self.__connect = self.__connect_to_db(connection_string)\n",
    "        self.__data = data\n",
    "        \n",
    "    def __connect_to_db(self, connection_string):\n",
    "        if len(connection_string.split('.')) == 4:\n",
    "            return connection_string\n",
    "        else:\n",
    "            raise ValueError\n",
    "        \n",
    "    def select_column(self, name):\n",
    "        column = self.__data[name]\n",
    "        return column\n",
    "    \n",
    "    def mean_in_column(self, column_name):\n",
    "        column = self.select_column(column_name)\n",
    "        # Обратите внимание, я считаю среднее\n",
    "        # таким образом не просто так.\n",
    "        # Это нарочный баг.\n",
    "        # Баги встречаются везде и это нормально.\n",
    "        # Хоть здесь он и совсем глупый.\n",
    "        return sum(column) / 3\n",
    "    \n",
    "    def max_in_column(self, column_name):\n",
    "        column = self.select_column(column_name)\n",
    "        return max(column)"
   ]
  },
  {
   "cell_type": "code",
   "execution_count": 22,
   "id": "456fd036",
   "metadata": {},
   "outputs": [
    {
     "name": "stdout",
     "output_type": "stream",
     "text": [
      "200.0\n",
      "300\n"
     ]
    }
   ],
   "source": [
    "db = DB('0.0.0.0', DATA)\n",
    "\n",
    "print(db.mean_in_column('price'))\n",
    "print(db.max_in_column('price'))"
   ]
  },
  {
   "cell_type": "markdown",
   "id": "a19510e0",
   "metadata": {},
   "source": [
    "Но что же не так с этим классом?\n",
    "\n",
    "То, что он содержит сразу несколько \"бизнес\" логики: И коннект к БД И аналитику.\n",
    "\n",
    "Прошло какое то время, какому то программисту понадобилось считать аналитику не из базы данных. А напрямую из списка:"
   ]
  },
  {
   "cell_type": "code",
   "execution_count": 23,
   "id": "a008e084",
   "metadata": {},
   "outputs": [],
   "source": [
    "ANOTHER_PRICES = [101, 404, 228]"
   ]
  },
  {
   "cell_type": "markdown",
   "id": "f032e9eb",
   "metadata": {},
   "source": [
    "Программист видит код аналитики в `DB`, но он реализован так, что сложно или невозможно переиспользовать его на списке `ANOTHER_PRICES`.\n",
    "\n",
    "Проще всего взять и втупую сделать копипасту. Можно, конечно, вынести нужную часть в отдельную независимую функцию, но смысл примера от этого сильно не изменится.\n",
    "\n",
    "\n",
    "Так вот, наш программист берет и создает новый класс, в который отправляет копипасту."
   ]
  },
  {
   "cell_type": "code",
   "execution_count": 37,
   "id": "e10a3574",
   "metadata": {},
   "outputs": [],
   "source": [
    "class Analytic:\n",
    "    def mean(self, distribution):\n",
    "        return sum(distribution) / 3\n",
    "    \n",
    "    def max(self, distribution):\n",
    "        return max(distribution)"
   ]
  },
  {
   "cell_type": "code",
   "execution_count": 38,
   "id": "26629493",
   "metadata": {},
   "outputs": [
    {
     "name": "stdout",
     "output_type": "stream",
     "text": [
      "244.33333333333334\n",
      "404\n"
     ]
    }
   ],
   "source": [
    "analytics = Analytic()\n",
    "\n",
    "print(analytic.mean(ANOTHER_PRICES))\n",
    "print(analytic.max(ANOTHER_PRICES))"
   ]
  },
  {
   "cell_type": "markdown",
   "id": "ee822785",
   "metadata": {},
   "source": [
    "Вдруг! Тестировщик нашел баг (или не тестировщик, а клиент нашей программы). Оказывается мы считаем неправильно среднее:"
   ]
  },
  {
   "cell_type": "code",
   "execution_count": 27,
   "id": "e8f39262",
   "metadata": {},
   "outputs": [],
   "source": [
    "ANOTHER_DATA = {\n",
    "    'price': [1,1,1,1],\n",
    "    'item': ['пиво', 'рыба', 'раки', 'кальмар']\n",
    "}"
   ]
  },
  {
   "cell_type": "code",
   "execution_count": 28,
   "id": "12f02ffd",
   "metadata": {},
   "outputs": [
    {
     "ename": "AssertionError",
     "evalue": "",
     "output_type": "error",
     "traceback": [
      "\u001b[0;31m---------------------------------------------------------------------------\u001b[0m",
      "\u001b[0;31mAssertionError\u001b[0m                            Traceback (most recent call last)",
      "\u001b[0;32m/tmp/ipykernel_5675/1793267453.py\u001b[0m in \u001b[0;36m<module>\u001b[0;34m\u001b[0m\n\u001b[1;32m      1\u001b[0m \u001b[0mdb\u001b[0m \u001b[0;34m=\u001b[0m \u001b[0mDB\u001b[0m\u001b[0;34m(\u001b[0m\u001b[0;34m'0.0.0.0'\u001b[0m\u001b[0;34m,\u001b[0m \u001b[0mANOTHER_DATA\u001b[0m\u001b[0;34m)\u001b[0m\u001b[0;34m\u001b[0m\u001b[0;34m\u001b[0m\u001b[0m\n\u001b[1;32m      2\u001b[0m \u001b[0;34m\u001b[0m\u001b[0m\n\u001b[0;32m----> 3\u001b[0;31m \u001b[0;32massert\u001b[0m \u001b[0mdb\u001b[0m\u001b[0;34m.\u001b[0m\u001b[0mmean_in_column\u001b[0m\u001b[0;34m(\u001b[0m\u001b[0;34m'price'\u001b[0m\u001b[0;34m)\u001b[0m \u001b[0;34m==\u001b[0m \u001b[0;36m1\u001b[0m\u001b[0;34m\u001b[0m\u001b[0;34m\u001b[0m\u001b[0m\n\u001b[0m",
      "\u001b[0;31mAssertionError\u001b[0m: "
     ]
    }
   ],
   "source": [
    "db = DB('0.0.0.0', ANOTHER_DATA)\n",
    "\n",
    "assert db.mean_in_column('price') == 1"
   ]
  },
  {
   "cell_type": "markdown",
   "id": "f073dc99",
   "metadata": {},
   "source": [
    "Мы пойдем исправлять `DB`.\n",
    "\n",
    "Затем, увидим, что в `Analytic` тоже есть баг.\n",
    "\n",
    "Пойдем исправлять `Analytic`.\n",
    "\n",
    "...\n",
    "\n",
    "Все это стоит ресурсов и можно было этого избежать.\n",
    "\n",
    "Вместо расширения функционала изначальной базы данных, стоило создать два отдельных класса с единственной ответственностью:"
   ]
  },
  {
   "cell_type": "code",
   "execution_count": 40,
   "id": "665c8d8c",
   "metadata": {},
   "outputs": [],
   "source": [
    "class DB:\n",
    "    def __init__(self, connection_string, data):\n",
    "        self.__connect = self.__connect_to_db(connection_string)\n",
    "        self.__data = data\n",
    "        \n",
    "    def __connect_to_db(self, connection_string):\n",
    "        if len(connection_string.split('.')) == 4:\n",
    "            return connection_string\n",
    "        else:\n",
    "            raise ValueError\n",
    "        \n",
    "    def select_column(self, name):\n",
    "        column = self.__data[name]\n",
    "        return column\n",
    "\n",
    "\n",
    "class Analytic:\n",
    "    def mean(self, distribution):\n",
    "        # Обратите внимание, я считаю среднее\n",
    "        # таким образом не просто так.\n",
    "        # Это нарочный баг.\n",
    "        # Баги встречаются везде и это нормально.\n",
    "        # Хоть здесь он и совсем глупый.\n",
    "        return sum(distribution) / 3\n",
    "    \n",
    "    def max(self, distribution):\n",
    "        return max(distribution)\n",
    "\n",
    "\n",
    "class AnalyticOnDB:\n",
    "    def __init__(self, db, analytic):\n",
    "        self.__db = db\n",
    "        self.__analytic = analytic\n",
    "        \n",
    "    def mean_in_column(self, column_name):\n",
    "        column = self.__db.select_column(column_name)\n",
    "        return self.__analytic.mean(column)\n",
    "    \n",
    "    def max_in_column(self, column_name):\n",
    "        column = self.__db.select_column(column_name)\n",
    "        return self.__analytic.mean(column)"
   ]
  },
  {
   "cell_type": "markdown",
   "id": "b90d1fe4",
   "metadata": {},
   "source": [
    "И теперь у нас есть возможность использовать отдельно каждый класс."
   ]
  },
  {
   "cell_type": "code",
   "execution_count": 43,
   "id": "d4afdb52",
   "metadata": {},
   "outputs": [
    {
     "name": "stdout",
     "output_type": "stream",
     "text": [
      "[100, 200, 300]\n",
      "244.33333333333334\n",
      "404\n"
     ]
    }
   ],
   "source": [
    "db = DB('0.0.0.0', DATA)\n",
    "print(db.select_column('price'))\n",
    "\n",
    "analytics = Analytic()\n",
    "\n",
    "print(analytic.mean(ANOTHER_PRICES))\n",
    "print(analytic.max(ANOTHER_PRICES))"
   ]
  },
  {
   "cell_type": "markdown",
   "id": "b6e3e63d",
   "metadata": {},
   "source": [
    "При этом, в той же ситуации с обнаруженным багом:"
   ]
  },
  {
   "cell_type": "code",
   "execution_count": 34,
   "id": "8f8b8f15",
   "metadata": {},
   "outputs": [
    {
     "ename": "AssertionError",
     "evalue": "",
     "output_type": "error",
     "traceback": [
      "\u001b[0;31m---------------------------------------------------------------------------\u001b[0m",
      "\u001b[0;31mAssertionError\u001b[0m                            Traceback (most recent call last)",
      "\u001b[0;32m/tmp/ipykernel_5675/123989384.py\u001b[0m in \u001b[0;36m<module>\u001b[0;34m\u001b[0m\n\u001b[1;32m      3\u001b[0m \u001b[0;34m\u001b[0m\u001b[0m\n\u001b[1;32m      4\u001b[0m \u001b[0mdb_analytic\u001b[0m \u001b[0;34m=\u001b[0m \u001b[0mAnalyticOnDB\u001b[0m\u001b[0;34m(\u001b[0m\u001b[0mdb\u001b[0m\u001b[0;34m,\u001b[0m \u001b[0manalytic\u001b[0m\u001b[0;34m)\u001b[0m\u001b[0;34m\u001b[0m\u001b[0;34m\u001b[0m\u001b[0m\n\u001b[0;32m----> 5\u001b[0;31m \u001b[0;32massert\u001b[0m \u001b[0mdb_analytic\u001b[0m\u001b[0;34m.\u001b[0m\u001b[0mmean_in_column\u001b[0m\u001b[0;34m(\u001b[0m\u001b[0;34m'price'\u001b[0m\u001b[0;34m)\u001b[0m \u001b[0;34m==\u001b[0m \u001b[0;36m1\u001b[0m\u001b[0;34m\u001b[0m\u001b[0;34m\u001b[0m\u001b[0m\n\u001b[0m",
      "\u001b[0;31mAssertionError\u001b[0m: "
     ]
    }
   ],
   "source": [
    "db = DB('0.0.0.0', ANOTHER_DATA)\n",
    "analytic = Analytic()\n",
    "\n",
    "db_analytic = AnalyticOnDB(db, analytic)\n",
    "assert db_analytic.mean_in_column('price') == 1"
   ]
  },
  {
   "cell_type": "markdown",
   "id": "1e2509f1",
   "metadata": {},
   "source": [
    "Мы исправим ошибку в `Analytic.mean` и все зависимые классы будут прекрасно работать:"
   ]
  },
  {
   "cell_type": "code",
   "execution_count": 35,
   "id": "9edd95f1",
   "metadata": {},
   "outputs": [],
   "source": [
    "class Analytic:\n",
    "    def mean(self, distribution):\n",
    "        return sum(distribution) / len(distribution)\n",
    "    \n",
    "    def max(self, distribution):\n",
    "        return max(distribution)"
   ]
  },
  {
   "cell_type": "code",
   "execution_count": 36,
   "id": "a3662512",
   "metadata": {},
   "outputs": [],
   "source": [
    "db = DB('0.0.0.0', ANOTHER_DATA)\n",
    "analytic = Analytic()\n",
    "\n",
    "db_analytic = AnalyticOnDB(db, analytic)\n",
    "assert db_analytic.mean_in_column('price') == 1"
   ]
  },
  {
   "cell_type": "markdown",
   "id": "0650e64a",
   "metadata": {},
   "source": [
    "_____\n",
    "Тем не менее, всегда стоит помнить, что ООП и SOLID не всегда необходимы. Иногда это приводит к сильному оверинженерингу. В частности, через чур руководствуясь этим принципом можно наплодить очень много сущностей, с которыми будет тяжело работать, поддерживать и вообще ориентироваться в проекте."
   ]
  }
 ],
 "metadata": {
  "kernelspec": {
   "display_name": "Python 3 (ipykernel)",
   "language": "python",
   "name": "python3"
  },
  "language_info": {
   "codemirror_mode": {
    "name": "ipython",
    "version": 3
   },
   "file_extension": ".py",
   "mimetype": "text/x-python",
   "name": "python",
   "nbconvert_exporter": "python",
   "pygments_lexer": "ipython3",
   "version": "3.7.10"
  }
 },
 "nbformat": 4,
 "nbformat_minor": 5
}
